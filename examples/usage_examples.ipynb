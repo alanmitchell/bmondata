{
 "cells": [
  {
   "cell_type": "markdown",
   "metadata": {},
   "source": [
    "# bmondata Usage Examples"
   ]
  },
  {
   "cell_type": "markdown",
   "metadata": {},
   "source": [
    "## Installation\n",
    "\n",
    "The package can be installed through use of pip.  (The exclamation point in the\n",
    "following cell allows a shell command to be run inside the Jupyter notebook.)"
   ]
  },
  {
   "cell_type": "code",
   "execution_count": 1,
   "metadata": {
    "scrolled": true
   },
   "outputs": [
    {
     "name": "stdout",
     "output_type": "stream",
     "text": [
      "Looking in indexes: https://test.pypi.org/simple/\n",
      "Requirement already up-to-date: bmondata in /home/tabb99/anaconda3/lib/python3.7/site-packages (0.5.1)\n",
      "Requirement already satisfied, skipping upgrade: pandas>=0.23.2 in /home/tabb99/anaconda3/lib/python3.7/site-packages (from bmondata) (0.25.0)\n",
      "Requirement already satisfied, skipping upgrade: requests>=2.18.4 in /home/tabb99/anaconda3/lib/python3.7/site-packages (from bmondata) (2.21.0)\n",
      "Requirement already satisfied, skipping upgrade: python-dateutil>=2.6.1 in /home/tabb99/anaconda3/lib/python3.7/site-packages (from pandas>=0.23.2->bmondata) (2.8.0)\n",
      "Requirement already satisfied, skipping upgrade: numpy>=1.13.3 in /home/tabb99/anaconda3/lib/python3.7/site-packages (from pandas>=0.23.2->bmondata) (1.16.4)\n",
      "Requirement already satisfied, skipping upgrade: pytz>=2017.2 in /home/tabb99/anaconda3/lib/python3.7/site-packages (from pandas>=0.23.2->bmondata) (2019.1)\n",
      "Requirement already satisfied, skipping upgrade: certifi>=2017.4.17 in /home/tabb99/anaconda3/lib/python3.7/site-packages (from requests>=2.18.4->bmondata) (2019.6.16)\n",
      "Requirement already satisfied, skipping upgrade: idna<2.9,>=2.5 in /home/tabb99/anaconda3/lib/python3.7/site-packages (from requests>=2.18.4->bmondata) (2.8)\n",
      "Requirement already satisfied, skipping upgrade: urllib3<1.25,>=1.21.1 in /home/tabb99/anaconda3/lib/python3.7/site-packages (from requests>=2.18.4->bmondata) (1.24.1)\n",
      "Requirement already satisfied, skipping upgrade: chardet<3.1.0,>=3.0.2 in /home/tabb99/anaconda3/lib/python3.7/site-packages (from requests>=2.18.4->bmondata) (3.0.4)\n",
      "Requirement already satisfied, skipping upgrade: six>=1.5 in /home/tabb99/anaconda3/lib/python3.7/site-packages (from python-dateutil>=2.6.1->pandas>=0.23.2->bmondata) (1.12.0)\n"
     ]
    }
   ],
   "source": [
    "!pip install --upgrade -i https://test.pypi.org/simple/ bmondata"
   ]
  },
  {
   "cell_type": "markdown",
   "metadata": {},
   "source": [
    "## Use of the Server Class\n",
    "\n",
    "The Server class is used to initiate requests to one BMON Server.  The base URL of the\n",
    "BMON server is the one required parameter when instatiating the object.  If you want\n",
    "to use the Server object to *store* sensor readings on the server, you also need\n",
    "to provide the 'store_key' parameter.  The 'store_key' is the secret key found in the \n",
    "settings.py file on the BMON server."
   ]
  },
  {
   "cell_type": "code",
   "execution_count": 2,
   "metadata": {},
   "outputs": [],
   "source": [
    "import bmondata\n",
    "\n",
    "# Make a Server object for retrieving data only\n",
    "#server = bmondata.Server('https://bmon.analysisnorth.com')\n",
    "\n",
    "# The Server object below can also be used to store sensor readings \n",
    "# on the BMON server.\n",
    "#server = bmondata.Server('https://bmon.analysisnorth.com', store_key='tempkey')\n",
    "server = bmondata.Server('http://0.0.0.0:8000', store_key='tempkey')"
   ]
  },
  {
   "cell_type": "markdown",
   "metadata": {},
   "source": [
    "## Retrieve Sensor Readings\n",
    "\n",
    "The `sensor_readings()` method is used to retrieve sensor readings from one or\n",
    "more sensors.  The readings are returned in a Pandas DataFrame.  To retrieve\n",
    "readings from one sensor, specify the Sensor ID as the first parameter:"
   ]
  },
  {
   "cell_type": "code",
   "execution_count": 3,
   "metadata": {},
   "outputs": [
    {
     "data": {
      "text/html": [
       "<div>\n",
       "<style scoped>\n",
       "    .dataframe tbody tr th:only-of-type {\n",
       "        vertical-align: middle;\n",
       "    }\n",
       "\n",
       "    .dataframe tbody tr th {\n",
       "        vertical-align: top;\n",
       "    }\n",
       "\n",
       "    .dataframe thead th {\n",
       "        text-align: right;\n",
       "    }\n",
       "</style>\n",
       "<table border=\"1\" class=\"dataframe\">\n",
       "  <thead>\n",
       "    <tr style=\"text-align: right;\">\n",
       "      <th></th>\n",
       "      <th>phil_hp_pwr_10187_temp</th>\n",
       "    </tr>\n",
       "  </thead>\n",
       "  <tbody>\n",
       "    <tr>\n",
       "      <th>2018-01-20 14:53:38</th>\n",
       "      <td>26.600</td>\n",
       "    </tr>\n",
       "    <tr>\n",
       "      <th>2018-01-20 14:56:50</th>\n",
       "      <td>26.600</td>\n",
       "    </tr>\n",
       "    <tr>\n",
       "      <th>2018-01-20 14:59:42</th>\n",
       "      <td>26.582</td>\n",
       "    </tr>\n",
       "    <tr>\n",
       "      <th>2018-01-20 16:28:59</th>\n",
       "      <td>25.777</td>\n",
       "    </tr>\n",
       "    <tr>\n",
       "      <th>2018-01-20 16:32:11</th>\n",
       "      <td>25.880</td>\n",
       "    </tr>\n",
       "  </tbody>\n",
       "</table>\n",
       "</div>"
      ],
      "text/plain": [
       "                     phil_hp_pwr_10187_temp\n",
       "2018-01-20 14:53:38                  26.600\n",
       "2018-01-20 14:56:50                  26.600\n",
       "2018-01-20 14:59:42                  26.582\n",
       "2018-01-20 16:28:59                  25.777\n",
       "2018-01-20 16:32:11                  25.880"
      ]
     },
     "execution_count": 3,
     "metadata": {},
     "output_type": "execute_result"
    }
   ],
   "source": [
    "df = server.sensor_readings('phil_hp_pwr_10187_temp')\n",
    "df.head()"
   ]
  },
  {
   "cell_type": "markdown",
   "metadata": {},
   "source": [
    "To retrieve readings from multiple sensors, provide a list of Sensor IDs:"
   ]
  },
  {
   "cell_type": "code",
   "execution_count": 4,
   "metadata": {},
   "outputs": [
    {
     "data": {
      "text/html": [
       "<div>\n",
       "<style scoped>\n",
       "    .dataframe tbody tr th:only-of-type {\n",
       "        vertical-align: middle;\n",
       "    }\n",
       "\n",
       "    .dataframe tbody tr th {\n",
       "        vertical-align: top;\n",
       "    }\n",
       "\n",
       "    .dataframe thead th {\n",
       "        text-align: right;\n",
       "    }\n",
       "</style>\n",
       "<table border=\"1\" class=\"dataframe\">\n",
       "  <thead>\n",
       "    <tr style=\"text-align: right;\">\n",
       "      <th></th>\n",
       "      <th>phil_hp_pwr_10187_temp</th>\n",
       "      <th>phil_hp_pwr_7470_temp</th>\n",
       "    </tr>\n",
       "  </thead>\n",
       "  <tbody>\n",
       "    <tr>\n",
       "      <th>2018-01-20 14:53:38</th>\n",
       "      <td>26.600</td>\n",
       "      <td>64.940</td>\n",
       "    </tr>\n",
       "    <tr>\n",
       "      <th>2018-01-20 14:56:32</th>\n",
       "      <td>NaN</td>\n",
       "      <td>64.958</td>\n",
       "    </tr>\n",
       "    <tr>\n",
       "      <th>2018-01-20 14:56:50</th>\n",
       "      <td>26.600</td>\n",
       "      <td>NaN</td>\n",
       "    </tr>\n",
       "    <tr>\n",
       "      <th>2018-01-20 14:59:42</th>\n",
       "      <td>26.582</td>\n",
       "      <td>65.120</td>\n",
       "    </tr>\n",
       "    <tr>\n",
       "      <th>2018-01-20 16:28:59</th>\n",
       "      <td>25.777</td>\n",
       "      <td>NaN</td>\n",
       "    </tr>\n",
       "  </tbody>\n",
       "</table>\n",
       "</div>"
      ],
      "text/plain": [
       "                     phil_hp_pwr_10187_temp  phil_hp_pwr_7470_temp\n",
       "2018-01-20 14:53:38                  26.600                 64.940\n",
       "2018-01-20 14:56:32                     NaN                 64.958\n",
       "2018-01-20 14:56:50                  26.600                    NaN\n",
       "2018-01-20 14:59:42                  26.582                 65.120\n",
       "2018-01-20 16:28:59                  25.777                    NaN"
      ]
     },
     "execution_count": 4,
     "metadata": {},
     "output_type": "execute_result"
    }
   ],
   "source": [
    "df = df = server.sensor_readings(['phil_hp_pwr_10187_temp', 'phil_hp_pwr_7470_temp'])\n",
    "df.head()"
   ]
  },
  {
   "cell_type": "markdown",
   "metadata": {},
   "source": [
    "Readings from multiple sensors often are not synchronized in time, thus the DataFrame\n",
    "will include many NaN values.  Time-averaging of readings is discussed later and\n",
    "can eliminate most of the NaN values.\n",
    "\n",
    "You can have the DataFrame use more meaningful column names by providing a column\n",
    "label for one or more of the sensors:"
   ]
  },
  {
   "cell_type": "code",
   "execution_count": 5,
   "metadata": {},
   "outputs": [
    {
     "data": {
      "text/html": [
       "<div>\n",
       "<style scoped>\n",
       "    .dataframe tbody tr th:only-of-type {\n",
       "        vertical-align: middle;\n",
       "    }\n",
       "\n",
       "    .dataframe tbody tr th {\n",
       "        vertical-align: top;\n",
       "    }\n",
       "\n",
       "    .dataframe thead th {\n",
       "        text-align: right;\n",
       "    }\n",
       "</style>\n",
       "<table border=\"1\" class=\"dataframe\">\n",
       "  <thead>\n",
       "    <tr style=\"text-align: right;\">\n",
       "      <th></th>\n",
       "      <th>outdoor_temp</th>\n",
       "      <th>phil_hp_pwr_7470_temp</th>\n",
       "    </tr>\n",
       "  </thead>\n",
       "  <tbody>\n",
       "    <tr>\n",
       "      <th>2018-01-20 14:53:38</th>\n",
       "      <td>26.600</td>\n",
       "      <td>64.940</td>\n",
       "    </tr>\n",
       "    <tr>\n",
       "      <th>2018-01-20 14:56:32</th>\n",
       "      <td>NaN</td>\n",
       "      <td>64.958</td>\n",
       "    </tr>\n",
       "    <tr>\n",
       "      <th>2018-01-20 14:56:50</th>\n",
       "      <td>26.600</td>\n",
       "      <td>NaN</td>\n",
       "    </tr>\n",
       "    <tr>\n",
       "      <th>2018-01-20 14:59:42</th>\n",
       "      <td>26.582</td>\n",
       "      <td>65.120</td>\n",
       "    </tr>\n",
       "    <tr>\n",
       "      <th>2018-01-20 16:28:59</th>\n",
       "      <td>25.777</td>\n",
       "      <td>NaN</td>\n",
       "    </tr>\n",
       "  </tbody>\n",
       "</table>\n",
       "</div>"
      ],
      "text/plain": [
       "                     outdoor_temp  phil_hp_pwr_7470_temp\n",
       "2018-01-20 14:53:38        26.600                 64.940\n",
       "2018-01-20 14:56:32           NaN                 64.958\n",
       "2018-01-20 14:56:50        26.600                    NaN\n",
       "2018-01-20 14:59:42        26.582                 65.120\n",
       "2018-01-20 16:28:59        25.777                    NaN"
      ]
     },
     "execution_count": 5,
     "metadata": {},
     "output_type": "execute_result"
    }
   ],
   "source": [
    "sensors = [\n",
    "    ('phil_hp_pwr_10187_temp', 'outdoor_temp'), \n",
    "    'phil_hp_pwr_7470_temp'\n",
    "]\n",
    "\n",
    "df = server.sensor_readings(sensors)\n",
    "df.head()"
   ]
  },
  {
   "cell_type": "markdown",
   "metadata": {},
   "source": [
    "For each Sensor that you wish to label, use a two-tuple containing the Sensor ID\n",
    "and the Sensor Label instead of just supplying the Sensor ID.\n",
    "\n",
    "To filter the readings based on date/time, use the `start_ts` and `end_ts` parameters:"
   ]
  },
  {
   "cell_type": "code",
   "execution_count": 6,
   "metadata": {},
   "outputs": [
    {
     "data": {
      "text/html": [
       "<div>\n",
       "<style scoped>\n",
       "    .dataframe tbody tr th:only-of-type {\n",
       "        vertical-align: middle;\n",
       "    }\n",
       "\n",
       "    .dataframe tbody tr th {\n",
       "        vertical-align: top;\n",
       "    }\n",
       "\n",
       "    .dataframe thead th {\n",
       "        text-align: right;\n",
       "    }\n",
       "</style>\n",
       "<table border=\"1\" class=\"dataframe\">\n",
       "  <thead>\n",
       "    <tr style=\"text-align: right;\">\n",
       "      <th></th>\n",
       "      <th>outdoor_temp</th>\n",
       "      <th>phil_hp_pwr_7470_temp</th>\n",
       "    </tr>\n",
       "  </thead>\n",
       "  <tbody>\n",
       "    <tr>\n",
       "      <th>2019-01-15 15:00:20</th>\n",
       "      <td>NaN</td>\n",
       "      <td>70.58</td>\n",
       "    </tr>\n",
       "    <tr>\n",
       "      <th>2019-01-15 15:00:21</th>\n",
       "      <td>33.04</td>\n",
       "      <td>NaN</td>\n",
       "    </tr>\n",
       "    <tr>\n",
       "      <th>2019-01-15 15:02:23</th>\n",
       "      <td>33.04</td>\n",
       "      <td>NaN</td>\n",
       "    </tr>\n",
       "    <tr>\n",
       "      <th>2019-01-15 15:02:31</th>\n",
       "      <td>NaN</td>\n",
       "      <td>70.58</td>\n",
       "    </tr>\n",
       "    <tr>\n",
       "      <th>2019-01-15 15:04:01</th>\n",
       "      <td>NaN</td>\n",
       "      <td>70.58</td>\n",
       "    </tr>\n",
       "  </tbody>\n",
       "</table>\n",
       "</div>"
      ],
      "text/plain": [
       "                     outdoor_temp  phil_hp_pwr_7470_temp\n",
       "2019-01-15 15:00:20           NaN                  70.58\n",
       "2019-01-15 15:00:21         33.04                    NaN\n",
       "2019-01-15 15:02:23         33.04                    NaN\n",
       "2019-01-15 15:02:31           NaN                  70.58\n",
       "2019-01-15 15:04:01           NaN                  70.58"
      ]
     },
     "execution_count": 6,
     "metadata": {},
     "output_type": "execute_result"
    }
   ],
   "source": [
    "df = server.sensor_readings(\n",
    "    sensors,\n",
    "    start_ts = '2019-01-15 3:00 pm',\n",
    "    end_ts = '2019-01-17 10:30 am'\n",
    ")\n",
    "df.head()"
   ]
  },
  {
   "cell_type": "markdown",
   "metadata": {},
   "source": [
    "The format of `start_ts` and `end_ts` is very flexible.  Any date/time that can be\n",
    "parsed by dateutil.parser.parse() will work.  If `start_ts` is not provided, readings\n",
    "start at the earliest available; if `end_ts` is not provided, readings continue through\n",
    "the latest available.\n",
    "\n",
    "You can request that the sensor readings be averaged into time periods such as 1 hour or\n",
    "1 day.  For a full list of the possible time period codes, see \n",
    "[DateOffset Objects](https://pandas.pydata.org/pandas-docs/stable/user_guide/timeseries.html#dateoffset-objects).\n",
    "Here is an example for 1 hour averaging:"
   ]
  },
  {
   "cell_type": "code",
   "execution_count": 7,
   "metadata": {},
   "outputs": [
    {
     "data": {
      "text/html": [
       "<div>\n",
       "<style scoped>\n",
       "    .dataframe tbody tr th:only-of-type {\n",
       "        vertical-align: middle;\n",
       "    }\n",
       "\n",
       "    .dataframe tbody tr th {\n",
       "        vertical-align: top;\n",
       "    }\n",
       "\n",
       "    .dataframe thead th {\n",
       "        text-align: right;\n",
       "    }\n",
       "</style>\n",
       "<table border=\"1\" class=\"dataframe\">\n",
       "  <thead>\n",
       "    <tr style=\"text-align: right;\">\n",
       "      <th></th>\n",
       "      <th>outdoor_temp</th>\n",
       "      <th>phil_hp_pwr_7470_temp</th>\n",
       "    </tr>\n",
       "  </thead>\n",
       "  <tbody>\n",
       "    <tr>\n",
       "      <th>2019-01-15 15:00:00</th>\n",
       "      <td>33.006233</td>\n",
       "      <td>70.139767</td>\n",
       "    </tr>\n",
       "    <tr>\n",
       "      <th>2019-01-15 16:00:00</th>\n",
       "      <td>32.436133</td>\n",
       "      <td>70.168467</td>\n",
       "    </tr>\n",
       "    <tr>\n",
       "      <th>2019-01-15 17:00:00</th>\n",
       "      <td>31.556200</td>\n",
       "      <td>70.931667</td>\n",
       "    </tr>\n",
       "    <tr>\n",
       "      <th>2019-01-15 18:00:00</th>\n",
       "      <td>31.355200</td>\n",
       "      <td>70.568900</td>\n",
       "    </tr>\n",
       "    <tr>\n",
       "      <th>2019-01-15 19:00:00</th>\n",
       "      <td>31.684400</td>\n",
       "      <td>70.030333</td>\n",
       "    </tr>\n",
       "  </tbody>\n",
       "</table>\n",
       "</div>"
      ],
      "text/plain": [
       "                     outdoor_temp  phil_hp_pwr_7470_temp\n",
       "2019-01-15 15:00:00     33.006233              70.139767\n",
       "2019-01-15 16:00:00     32.436133              70.168467\n",
       "2019-01-15 17:00:00     31.556200              70.931667\n",
       "2019-01-15 18:00:00     31.355200              70.568900\n",
       "2019-01-15 19:00:00     31.684400              70.030333"
      ]
     },
     "execution_count": 7,
     "metadata": {},
     "output_type": "execute_result"
    }
   ],
   "source": [
    "df = server.sensor_readings(\n",
    "    sensors,\n",
    "    start_ts = '2019-01-15 3:00 pm',\n",
    "    end_ts = '2019-01-17 10:30 am',\n",
    "    averaging = '1H'\n",
    ")\n",
    "df.head()"
   ]
  },
  {
   "cell_type": "markdown",
   "metadata": {},
   "source": [
    "The default is to label the time period with the time at left (beginning) edge of the\n",
    "interval.  If instead you want the timestamp to fall at a different point in the\n",
    "interval, you can use the `label_offset` parameter to shift it.  Here we mark the\n",
    "middle of the interval by using an offset of 30 minutes:"
   ]
  },
  {
   "cell_type": "code",
   "execution_count": 8,
   "metadata": {},
   "outputs": [
    {
     "data": {
      "text/html": [
       "<div>\n",
       "<style scoped>\n",
       "    .dataframe tbody tr th:only-of-type {\n",
       "        vertical-align: middle;\n",
       "    }\n",
       "\n",
       "    .dataframe tbody tr th {\n",
       "        vertical-align: top;\n",
       "    }\n",
       "\n",
       "    .dataframe thead th {\n",
       "        text-align: right;\n",
       "    }\n",
       "</style>\n",
       "<table border=\"1\" class=\"dataframe\">\n",
       "  <thead>\n",
       "    <tr style=\"text-align: right;\">\n",
       "      <th></th>\n",
       "      <th>outdoor_temp</th>\n",
       "      <th>phil_hp_pwr_7470_temp</th>\n",
       "    </tr>\n",
       "  </thead>\n",
       "  <tbody>\n",
       "    <tr>\n",
       "      <th>2019-01-15 15:30:00</th>\n",
       "      <td>33.006233</td>\n",
       "      <td>70.139767</td>\n",
       "    </tr>\n",
       "    <tr>\n",
       "      <th>2019-01-15 16:30:00</th>\n",
       "      <td>32.436133</td>\n",
       "      <td>70.168467</td>\n",
       "    </tr>\n",
       "    <tr>\n",
       "      <th>2019-01-15 17:30:00</th>\n",
       "      <td>31.556200</td>\n",
       "      <td>70.931667</td>\n",
       "    </tr>\n",
       "    <tr>\n",
       "      <th>2019-01-15 18:30:00</th>\n",
       "      <td>31.355200</td>\n",
       "      <td>70.568900</td>\n",
       "    </tr>\n",
       "    <tr>\n",
       "      <th>2019-01-15 19:30:00</th>\n",
       "      <td>31.684400</td>\n",
       "      <td>70.030333</td>\n",
       "    </tr>\n",
       "  </tbody>\n",
       "</table>\n",
       "</div>"
      ],
      "text/plain": [
       "                     outdoor_temp  phil_hp_pwr_7470_temp\n",
       "2019-01-15 15:30:00     33.006233              70.139767\n",
       "2019-01-15 16:30:00     32.436133              70.168467\n",
       "2019-01-15 17:30:00     31.556200              70.931667\n",
       "2019-01-15 18:30:00     31.355200              70.568900\n",
       "2019-01-15 19:30:00     31.684400              70.030333"
      ]
     },
     "execution_count": 8,
     "metadata": {},
     "output_type": "execute_result"
    }
   ],
   "source": [
    "df = server.sensor_readings(\n",
    "    sensors,\n",
    "    start_ts = '2019-01-15 3:00 pm',\n",
    "    end_ts = '2019-01-17 10:30 am',\n",
    "    averaging = '1H',\n",
    "    label_offset = '30min'\n",
    ")\n",
    "df.head()"
   ]
  },
  {
   "cell_type": "markdown",
   "metadata": {},
   "source": [
    "## Retrieve Sensor Metadata\n",
    "\n",
    "Sensor titles, units and other information can be retrieved for one or more\n",
    "sensors by using the `sensors()` method.  Pass a Sensor ID or a list of Sensor\n",
    "IDs to the method:"
   ]
  },
  {
   "cell_type": "code",
   "execution_count": 9,
   "metadata": {},
   "outputs": [
    {
     "data": {
      "text/plain": [
       "[{'id': 234,\n",
       "  'sensor_id': 'phil_hp_pwr_10187_temp',\n",
       "  'title': 'New Outdoor Wireless Temp',\n",
       "  'notes': 'No sensor notes available.',\n",
       "  'is_calculated': False,\n",
       "  'tran_calc_function': 'val - 0.76',\n",
       "  'function_parameters': '',\n",
       "  'calculation_order': 0,\n",
       "  'formatting_function': '',\n",
       "  'other_properties': '',\n",
       "  'unit': 'deg F',\n",
       "  'buildings': [{'bldg_id': 5, 'sensor_group': 'Weather', 'sort_order': 40}]},\n",
       " {'id': 243,\n",
       "  'sensor_id': 'phil_hp_pwr_7470_temp',\n",
       "  'title': 'House Temp',\n",
       "  'notes': 'No sensor notes available.',\n",
       "  'is_calculated': False,\n",
       "  'tran_calc_function': 'val + 0.24',\n",
       "  'function_parameters': '',\n",
       "  'calculation_order': 0,\n",
       "  'formatting_function': '',\n",
       "  'other_properties': '',\n",
       "  'unit': 'deg F',\n",
       "  'buildings': [{'bldg_id': 5,\n",
       "    'sensor_group': 'Space Conditions, Temperature',\n",
       "    'sort_order': 10}]}]"
      ]
     },
     "execution_count": 9,
     "metadata": {},
     "output_type": "execute_result"
    }
   ],
   "source": [
    "server.sensors(['phil_hp_pwr_10187_temp', 'phil_hp_pwr_7470_temp'])"
   ]
  },
  {
   "cell_type": "markdown",
   "metadata": {},
   "source": [
    "The return value is a list of dictionaries, each dictionary describing a Sensor.\n",
    "The keys in the dictionary are the fields associated with the Sensor model in the\n",
    "BMON Django application. Further documentation of the fields is available\n",
    "[Here](https://github.com/alanmitchell/bmon/blob/master/bmsapp/models.py); search\n",
    "for the `class Sensor` section of the code.\n",
    "\n",
    "The `buildings` key in the dictionary gives a list of buildings that the Sensor\n",
    "is associated with.\n",
    "\n",
    "If you do not provide any IDs (either no parameters, or an empty list), information\n",
    "for *all* sensors will be returned.  For example, `server.sensors()` will return\n",
    "a list of all sensors."
   ]
  },
  {
   "cell_type": "markdown",
   "metadata": {},
   "source": [
    "## Building and Organization Information\n",
    "\n",
    "Methods are available to return information about Buildings and Organizations in the\n",
    "BMON system.  Pass one or a list of Building IDs to get Building information:"
   ]
  },
  {
   "cell_type": "code",
   "execution_count": 13,
   "metadata": {
    "scrolled": true
   },
   "outputs": [
    {
     "data": {
      "text/plain": [
       "[{'id': 2,\n",
       "  'title': 'THRHA Kake Senior Center',\n",
       "  'report_footer': '',\n",
       "  'latitude': 56.97,\n",
       "  'longitude': -133.94,\n",
       "  'timezone': 'US/Alaska',\n",
       "  'schedule': '',\n",
       "  'timeline_annotations': '',\n",
       "  'other_properties': '',\n",
       "  'current_mode': '',\n",
       "  'sensors': [{'sensor_id': 'kake_temp',\n",
       "    'sensor_group': 'Weather',\n",
       "    'sort_order': 999},\n",
       "   {'sensor_id': 'kake_windspeed',\n",
       "    'sensor_group': 'Weather',\n",
       "    'sort_order': 999},\n",
       "   {'sensor_id': '76967', 'sensor_group': 'Space Heating', 'sort_order': 999},\n",
       "   {'sensor_id': '75997', 'sensor_group': 'Space Heating', 'sort_order': 999},\n",
       "   {'sensor_id': '75945', 'sensor_group': 'Space Heating', 'sort_order': 999},\n",
       "   {'sensor_id': '76915', 'sensor_group': 'Space Heating', 'sort_order': 999},\n",
       "   {'sensor_id': '76952', 'sensor_group': 'Space Heating', 'sort_order': 999},\n",
       "   {'sensor_id': '76888', 'sensor_group': 'Space Heating', 'sort_order': 999},\n",
       "   {'sensor_id': '76049', 'sensor_group': 'Space Heating', 'sort_order': 999},\n",
       "   {'sensor_id': '76887', 'sensor_group': 'Space Heating', 'sort_order': 999},\n",
       "   {'sensor_id': '76089', 'sensor_group': 'Space Heating', 'sort_order': 999},\n",
       "   {'sensor_id': '76050',\n",
       "    'sensor_group': 'Domestic Hot Water',\n",
       "    'sort_order': 999},\n",
       "   {'sensor_id': '76037',\n",
       "    'sensor_group': 'Domestic Hot Water',\n",
       "    'sort_order': 999},\n",
       "   {'sensor_id': '75971',\n",
       "    'sensor_group': 'Domestic Hot Water',\n",
       "    'sort_order': 999},\n",
       "   {'sensor_id': '77938',\n",
       "    'sensor_group': 'Domestic Hot Water',\n",
       "    'sort_order': 999},\n",
       "   {'sensor_id': '75985', 'sensor_group': 'Electrical', 'sort_order': 999}],\n",
       "  'organizations': [[2, 'THRHA']]},\n",
       " {'id': 4,\n",
       "  'title': 'Homer Strawbale',\n",
       "  'report_footer': '',\n",
       "  'latitude': 59.681849,\n",
       "  'longitude': -151.641098,\n",
       "  'timezone': 'US/Alaska',\n",
       "  'schedule': '',\n",
       "  'timeline_annotations': '',\n",
       "  'other_properties': '',\n",
       "  'current_mode': '',\n",
       "  'sensors': [{'sensor_id': 'hmr_ArptTemp',\n",
       "    'sensor_group': 'Weather',\n",
       "    'sort_order': 10},\n",
       "   {'sensor_id': 'hmr_ArptWind', 'sensor_group': 'Weather', 'sort_order': 20},\n",
       "   {'sensor_id': 'hmr_OutdoorT', 'sensor_group': 'Weather', 'sort_order': 30},\n",
       "   {'sensor_id': 'hmr_StrHmT',\n",
       "    'sensor_group': 'Space Conditions, Temperature',\n",
       "    'sort_order': 10},\n",
       "   {'sensor_id': 'hmr_GreenHsT',\n",
       "    'sensor_group': 'Space Conditions, Temperature',\n",
       "    'sort_order': 20},\n",
       "   {'sensor_id': 'hmr_BoilerRmT',\n",
       "    'sensor_group': 'Space Conditions, Temperature',\n",
       "    'sort_order': 30},\n",
       "   {'sensor_id': 'hmr_StrArrBtuMeter',\n",
       "    'sensor_group': 'Solar Thermal',\n",
       "    'sort_order': 10},\n",
       "   {'sensor_id': 'hmr_StrArrInT',\n",
       "    'sensor_group': 'Solar Thermal',\n",
       "    'sort_order': 20},\n",
       "   {'sensor_id': 'hmr_StrArrOutT',\n",
       "    'sensor_group': 'Solar Thermal',\n",
       "    'sort_order': 30},\n",
       "   {'sensor_id': 'hmr_StrArrFlowMeter',\n",
       "    'sensor_group': 'Solar Thermal',\n",
       "    'sort_order': 40},\n",
       "   {'sensor_id': 'hmr_GrnArrBtuMeter',\n",
       "    'sensor_group': 'Solar Thermal',\n",
       "    'sort_order': 50},\n",
       "   {'sensor_id': 'hmr_GrnArrInT',\n",
       "    'sensor_group': 'Solar Thermal',\n",
       "    'sort_order': 60},\n",
       "   {'sensor_id': 'hmr_GrnArrOutT',\n",
       "    'sensor_group': 'Solar Thermal',\n",
       "    'sort_order': 70},\n",
       "   {'sensor_id': 'hmr_GrnArrFlowMeter',\n",
       "    'sensor_group': 'Solar Thermal',\n",
       "    'sort_order': 80},\n",
       "   {'sensor_id': 'hmr_PoolT',\n",
       "    'sensor_group': 'Heat Storage',\n",
       "    'sort_order': 10},\n",
       "   {'sensor_id': 'hmr_PoolSoilT',\n",
       "    'sensor_group': 'Heat Storage',\n",
       "    'sort_order': 20},\n",
       "   {'sensor_id': 'hmr_PL750_bottom',\n",
       "    'sensor_group': 'Heat Storage',\n",
       "    'sort_order': 30},\n",
       "   {'sensor_id': 'hmr_PL750_mid',\n",
       "    'sensor_group': 'Heat Storage',\n",
       "    'sort_order': 40},\n",
       "   {'sensor_id': 'hmr_PL750_top',\n",
       "    'sensor_group': 'Heat Storage',\n",
       "    'sort_order': 50},\n",
       "   {'sensor_id': 'hmr_PriToPoolReturnT',\n",
       "    'sensor_group': 'Heat Storage',\n",
       "    'sort_order': 60},\n",
       "   {'sensor_id': 'hmr_PriLoopT',\n",
       "    'sensor_group': 'Heating System',\n",
       "    'sort_order': 10},\n",
       "   {'sensor_id': 'hmr_PoolToPriT',\n",
       "    'sensor_group': 'Heating System',\n",
       "    'sort_order': 20},\n",
       "   {'sensor_id': 'hmr_MixedT',\n",
       "    'sensor_group': 'Heating System',\n",
       "    'sort_order': 30},\n",
       "   {'sensor_id': 'hmr_BoilerStackT',\n",
       "    'sensor_group': 'Heating System',\n",
       "    'sort_order': 40}],\n",
       "  'organizations': [[1, 'Homes']]}]"
      ]
     },
     "execution_count": 13,
     "metadata": {},
     "output_type": "execute_result"
    }
   ],
   "source": [
    "server.buildings([2, 4])"
   ]
  },
  {
   "cell_type": "markdown",
   "metadata": {},
   "source": [
    "Further documentation of the fields is available\n",
    "[Here](https://github.com/alanmitchell/bmon/blob/master/bmsapp/models.py); search\n",
    "for the `class Building` section of the code.  The `sensors` item gives a list of\n",
    "Sensors associated with the Building.\n",
    "\n",
    "If you do not provide any IDs (either no parameters, or an empty list), information\n",
    "for *all* buildings will be returned.\n",
    "\n",
    "Here is the method for retrieving information about Organizations:"
   ]
  },
  {
   "cell_type": "code",
   "execution_count": 11,
   "metadata": {},
   "outputs": [
    {
     "data": {
      "text/plain": [
       "[{'id': 1,\n",
       "  'title': 'Homes',\n",
       "  'sort_order': 10,\n",
       "  'buildings': [[16, \"Chris's House\"],\n",
       "   [8, \"Dustin's Neighborhood\"],\n",
       "   [4, 'Homer Strawbale'],\n",
       "   [14, \"Ian's House\"],\n",
       "   [5, 'Kaluza House'],\n",
       "   [3, 'Mitchell House'],\n",
       "   [7, 'Rehfeldt Home'],\n",
       "   [19, \"Tyler's House\"]]},\n",
       " {'id': 2,\n",
       "  'title': 'THRHA',\n",
       "  'sort_order': 20,\n",
       "  'buildings': [[18, 'THRHA Angoon Housing'],\n",
       "   [17, 'THRHA Juneau Warehouse'],\n",
       "   [2, 'THRHA Kake Senior Center']]}]"
      ]
     },
     "execution_count": 11,
     "metadata": {},
     "output_type": "execute_result"
    }
   ],
   "source": [
    "server.organizations([1, 2])"
   ]
  },
  {
   "cell_type": "markdown",
   "metadata": {},
   "source": [
    "Again, further documentation of the fields is available\n",
    "[Here](https://github.com/alanmitchell/bmon/blob/master/bmsapp/models.py); search\n",
    "for the `class Organization` section of the code.  The `buildings` key gives the list\n",
    "of buildings associated with the organization. `server.organizations()` will return\n",
    "information on all Organizations."
   ]
  },
  {
   "cell_type": "markdown",
   "metadata": {},
   "source": [
    "### Used to Save this Notebook as an HTML File"
   ]
  },
  {
   "cell_type": "code",
   "execution_count": 15,
   "metadata": {},
   "outputs": [
    {
     "name": "stdout",
     "output_type": "stream",
     "text": [
      "[NbConvertApp] Converting notebook usage_examples.ipynb to html\n",
      "[NbConvertApp] Writing 308394 bytes to usage_examples.html\n"
     ]
    }
   ],
   "source": [
    "!jupyter nbconvert usage_examples.ipynb --to html"
   ]
  }
 ],
 "metadata": {
  "kernelspec": {
   "display_name": "Python 3",
   "language": "python",
   "name": "python3"
  },
  "language_info": {
   "codemirror_mode": {
    "name": "ipython",
    "version": 3
   },
   "file_extension": ".py",
   "mimetype": "text/x-python",
   "name": "python",
   "nbconvert_exporter": "python",
   "pygments_lexer": "ipython3",
   "version": "3.7.3"
  }
 },
 "nbformat": 4,
 "nbformat_minor": 2
}
