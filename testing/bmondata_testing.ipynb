{
 "cells": [
  {
   "cell_type": "markdown",
   "metadata": {},
   "source": [
    "# Tests the bmondata Package\n",
    "\n",
    "These are unstructured tests, not well documented or organized."
   ]
  },
  {
   "cell_type": "code",
   "execution_count": 1,
   "metadata": {},
   "outputs": [],
   "source": [
    "from importlib import reload\n",
    "import sys\n",
    "import pandas as pd\n",
    "import numpy as np\n",
    "import requests"
   ]
  },
  {
   "cell_type": "code",
   "execution_count": 2,
   "metadata": {},
   "outputs": [],
   "source": [
    "sys.path.insert(0, '../')"
   ]
  },
  {
   "cell_type": "markdown",
   "metadata": {},
   "source": [
    "## To Do\n",
    "\n",
    "* Allow actual datetime objects for start_ts and end_ts.\n",
    "  * Need to think about how to deal with them if they have a timezone."
   ]
  },
  {
   "cell_type": "code",
   "execution_count": 3,
   "metadata": {},
   "outputs": [
    {
     "data": {
      "text/html": [
       "<div>\n",
       "<style scoped>\n",
       "    .dataframe tbody tr th:only-of-type {\n",
       "        vertical-align: middle;\n",
       "    }\n",
       "\n",
       "    .dataframe tbody tr th {\n",
       "        vertical-align: top;\n",
       "    }\n",
       "\n",
       "    .dataframe thead th {\n",
       "        text-align: right;\n",
       "    }\n",
       "</style>\n",
       "<table border=\"1\" class=\"dataframe\">\n",
       "  <thead>\n",
       "    <tr style=\"text-align: right;\">\n",
       "      <th></th>\n",
       "      <th>indoor_temp</th>\n",
       "      <th>outdoor_temp</th>\n",
       "      <th>ms_power</th>\n",
       "    </tr>\n",
       "  </thead>\n",
       "  <tbody>\n",
       "    <tr>\n",
       "      <th>2019-07-20 00:15:00</th>\n",
       "      <td>67.960400</td>\n",
       "      <td>58.666533</td>\n",
       "      <td>0.0</td>\n",
       "    </tr>\n",
       "    <tr>\n",
       "      <th>2019-07-20 00:45:00</th>\n",
       "      <td>67.655733</td>\n",
       "      <td>58.258000</td>\n",
       "      <td>0.0</td>\n",
       "    </tr>\n",
       "    <tr>\n",
       "      <th>2019-07-20 01:15:00</th>\n",
       "      <td>67.335933</td>\n",
       "      <td>57.950267</td>\n",
       "      <td>0.0</td>\n",
       "    </tr>\n",
       "    <tr>\n",
       "      <th>2019-07-20 01:45:00</th>\n",
       "      <td>67.091000</td>\n",
       "      <td>57.839733</td>\n",
       "      <td>0.0</td>\n",
       "    </tr>\n",
       "    <tr>\n",
       "      <th>2019-07-20 02:15:00</th>\n",
       "      <td>67.389500</td>\n",
       "      <td>57.727571</td>\n",
       "      <td>0.0</td>\n",
       "    </tr>\n",
       "  </tbody>\n",
       "</table>\n",
       "</div>"
      ],
      "text/plain": [
       "                     indoor_temp  outdoor_temp  ms_power\n",
       "2019-07-20 00:15:00    67.960400     58.666533       0.0\n",
       "2019-07-20 00:45:00    67.655733     58.258000       0.0\n",
       "2019-07-20 01:15:00    67.335933     57.950267       0.0\n",
       "2019-07-20 01:45:00    67.091000     57.839733       0.0\n",
       "2019-07-20 02:15:00    67.389500     57.727571       0.0"
      ]
     },
     "execution_count": 3,
     "metadata": {},
     "output_type": "execute_result"
    }
   ],
   "source": [
    "import bmondata\n",
    "\n",
    "reload(bmondata.server)\n",
    "reload(bmondata.util)\n",
    "reload(bmondata)\n",
    "\n",
    "bmon = bmondata.Server('http://0.0.0.0:8000', 'tempkey')\n",
    "\n",
    "sensors = [('phil_hp_pwr_354_temp', 'indoor_temp'),\n",
    "    ('phil_hp_pwr_10187_temp', 'outdoor_temp'),\n",
    "    ('phil_hp_pwr_17_pulse', 'ms_power')]\n",
    "\n",
    "df = bmon.sensor_readings(\n",
    "    sensors,\n",
    "    start_ts = '2019-07-10',\n",
    "    #end_ts = '2019-07-15 1 pm',\n",
    "    #timezone = 'US/Eastern',\n",
    "    averaging = '30min',\n",
    "    label_offset = '15min'\n",
    "    )\n",
    "df.tail()"
   ]
  },
  {
   "cell_type": "code",
   "execution_count": 6,
   "metadata": {},
   "outputs": [
    {
     "data": {
      "text/plain": [
       "'US/Alaska'"
      ]
     },
     "execution_count": 6,
     "metadata": {},
     "output_type": "execute_result"
    }
   ],
   "source": [
    "df.bmon_timezone"
   ]
  },
  {
   "cell_type": "code",
   "execution_count": 5,
   "metadata": {},
   "outputs": [
    {
     "data": {
      "text/plain": [
       "['a', 'b', 'c', 'x', 'd', '12f']"
      ]
     },
     "execution_count": 5,
     "metadata": {},
     "output_type": "execute_result"
    }
   ],
   "source": [
    "bmondata.csnl_to_list('a, b,c\\nx\\nd, 12f\\n\\n')"
   ]
  },
  {
   "cell_type": "code",
   "execution_count": 6,
   "metadata": {},
   "outputs": [
    {
     "data": {
      "text/plain": [
       "[{'id': 316,\n",
       "  'sensor_id': '0004A30B001B05B2_light',\n",
       "  'title': '05B2 Light',\n",
       "  'notes': 'No sensor notes available.',\n",
       "  'is_calculated': False,\n",
       "  'tran_calc_function': '',\n",
       "  'function_parameters': '',\n",
       "  'calculation_order': 0,\n",
       "  'formatting_function': '',\n",
       "  'other_properties': '',\n",
       "  'unit': 'light units',\n",
       "  'buildings': [{'bldg_id': 20, 'sensor_group': 'Light', 'sort_order': 20}]},\n",
       " {'id': 321,\n",
       "  'sensor_id': '0004A30B001B05B2_battery',\n",
       "  'title': '05B2 Battery Voltage',\n",
       "  'notes': 'No sensor notes available.',\n",
       "  'is_calculated': False,\n",
       "  'tran_calc_function': '',\n",
       "  'function_parameters': '',\n",
       "  'calculation_order': 0,\n",
       "  'formatting_function': '',\n",
       "  'other_properties': '',\n",
       "  'unit': 'millivolts',\n",
       "  'buildings': [{'bldg_id': 20, 'sensor_group': 'Battery', 'sort_order': 10}]}]"
      ]
     },
     "execution_count": 6,
     "metadata": {},
     "output_type": "execute_result"
    }
   ],
   "source": [
    "bmon.sensors(['0004A30B001B05B2_light', '0004A30B001B05B2_battery'])"
   ]
  },
  {
   "cell_type": "code",
   "execution_count": 7,
   "metadata": {},
   "outputs": [
    {
     "data": {
      "text/plain": [
       "[{'id': 2,\n",
       "  'title': 'THRHA Kake Senior Center',\n",
       "  'report_footer': '',\n",
       "  'latitude': 56.97,\n",
       "  'longitude': -133.94,\n",
       "  'timezone': 'US/Alaska',\n",
       "  'schedule': '',\n",
       "  'timeline_annotations': '',\n",
       "  'other_properties': '',\n",
       "  'current_mode': '',\n",
       "  'sensors': [{'sensor_id': 'kake_temp',\n",
       "    'sensor_group': 'Weather',\n",
       "    'sort_order': 999},\n",
       "   {'sensor_id': 'kake_windspeed',\n",
       "    'sensor_group': 'Weather',\n",
       "    'sort_order': 999},\n",
       "   {'sensor_id': '76967', 'sensor_group': 'Space Heating', 'sort_order': 999},\n",
       "   {'sensor_id': '75997', 'sensor_group': 'Space Heating', 'sort_order': 999},\n",
       "   {'sensor_id': '75945', 'sensor_group': 'Space Heating', 'sort_order': 999},\n",
       "   {'sensor_id': '76915', 'sensor_group': 'Space Heating', 'sort_order': 999},\n",
       "   {'sensor_id': '76952', 'sensor_group': 'Space Heating', 'sort_order': 999},\n",
       "   {'sensor_id': '76888', 'sensor_group': 'Space Heating', 'sort_order': 999},\n",
       "   {'sensor_id': '76049', 'sensor_group': 'Space Heating', 'sort_order': 999},\n",
       "   {'sensor_id': '76887', 'sensor_group': 'Space Heating', 'sort_order': 999},\n",
       "   {'sensor_id': '76089', 'sensor_group': 'Space Heating', 'sort_order': 999},\n",
       "   {'sensor_id': '76050',\n",
       "    'sensor_group': 'Domestic Hot Water',\n",
       "    'sort_order': 999},\n",
       "   {'sensor_id': '76037',\n",
       "    'sensor_group': 'Domestic Hot Water',\n",
       "    'sort_order': 999},\n",
       "   {'sensor_id': '75971',\n",
       "    'sensor_group': 'Domestic Hot Water',\n",
       "    'sort_order': 999},\n",
       "   {'sensor_id': '77938',\n",
       "    'sensor_group': 'Domestic Hot Water',\n",
       "    'sort_order': 999},\n",
       "   {'sensor_id': '75985', 'sensor_group': 'Electrical', 'sort_order': 999}],\n",
       "  'organizations': [[2, 'THRHA']]}]"
      ]
     },
     "execution_count": 7,
     "metadata": {},
     "output_type": "execute_result"
    }
   ],
   "source": [
    "bmon.buildings(2)"
   ]
  },
  {
   "cell_type": "code",
   "execution_count": 8,
   "metadata": {},
   "outputs": [
    {
     "data": {
      "text/plain": [
       "[{'id': 1,\n",
       "  'title': 'Homes',\n",
       "  'sort_order': 10,\n",
       "  'buildings': [[16, \"Chris's House\"],\n",
       "   [8, \"Dustin's Neighborhood\"],\n",
       "   [4, 'Homer Strawbale'],\n",
       "   [14, \"Ian's House\"],\n",
       "   [5, 'Kaluza House'],\n",
       "   [3, 'Mitchell House'],\n",
       "   [7, 'Rehfeldt Home'],\n",
       "   [19, \"Tyler's House\"]]}]"
      ]
     },
     "execution_count": 8,
     "metadata": {},
     "output_type": "execute_result"
    }
   ],
   "source": [
    "bmon.organizations(1)"
   ]
  },
  {
   "cell_type": "code",
   "execution_count": 9,
   "metadata": {},
   "outputs": [
    {
     "name": "stdout",
     "output_type": "stream",
     "text": [
      "2\n"
     ]
    }
   ],
   "source": [
    "import time, re\n",
    "r = bmon.store_sensor_readings([\n",
    "    (time.time(), '_testing', 18.8),\n",
    "    (time.time(), '_hello', 24.3),\n",
    "])\n",
    "print(r)"
   ]
  }
 ],
 "metadata": {
  "kernelspec": {
   "display_name": "Python 3",
   "language": "python",
   "name": "python3"
  },
  "language_info": {
   "codemirror_mode": {
    "name": "ipython",
    "version": 3
   },
   "file_extension": ".py",
   "mimetype": "text/x-python",
   "name": "python",
   "nbconvert_exporter": "python",
   "pygments_lexer": "ipython3",
   "version": "3.7.3"
  }
 },
 "nbformat": 4,
 "nbformat_minor": 2
}
